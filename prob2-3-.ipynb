{
 "cells": [
  {
   "cell_type": "code",
   "execution_count": 2,
   "metadata": {},
   "outputs": [
    {
     "name": "stdout",
     "output_type": "stream",
     "text": [
      "this is the map to help you enter the sequence\n",
      "{'UUU': 'F', 'UUC': 'F', 'UUA': 'L', 'UUG': 'L', 'UCU': 'S', 'UCC': 'S', 'UCA': 'S', 'UCG': 'S', 'UAU': 'Y', 'UAC': 'Y', 'UAA': 'STOP', 'UAG': 'STOP', 'UGU': 'C', 'UGC': 'C', 'UGA': 'STOP', 'UGG': 'W', 'CUU': 'L', 'CUC': 'L', 'CUA': 'L', 'CUG': 'L', 'CCU': 'P', 'CCC': 'P', 'CCA': 'P', 'CCG': 'P', 'CAU': 'H', 'CAC': 'H', 'CAA': 'Q', 'CAG': 'Q', 'CGU': 'R', 'CGC': 'R', 'CGA': 'R', 'CGG': 'R', 'AUU': 'I', 'AUC': 'I', 'AUA': 'I', 'AUG': 'M', 'ACU': 'T', 'ACC': 'T', 'ACA': 'T', 'ACG': 'T', 'AAU': 'N', 'AAC': 'N', 'AAA': 'K', 'AAG': 'K', 'AGU': 'S', 'AGC': 'S', 'AGA': 'R', 'AGG': 'R', 'GUU': 'V', 'GUC': 'V', 'GUA': 'V', 'GUG': 'V', 'GCU': 'A', 'GCC': 'A', 'GCA': 'A', 'GCG': 'A', 'GAU': 'D', 'GAC': 'D', 'GAA': 'E', 'GAG': 'E', 'GGU': 'G', 'GGC': 'G', 'GGA': 'G', 'GGG': 'G'}\n",
      "Enter your protein: TGESTOP\n",
      "[('ACAGGAGAAUAA', 33.33), ('ACAGGUGAAUAA', 33.33), ('ACUGGAGAAUAA', 33.33), ('ACUGGUGAAUAA', 33.33), ('ACAGGAGAAUAG', 41.67), ('ACAGGAGAAUGA', 41.67), ('ACAGGAGAGUAA', 41.67), ('ACAGGCGAAUAA', 41.67), ('ACAGGGGAAUAA', 41.67), ('ACAGGUGAAUAG', 41.67), ('ACAGGUGAAUGA', 41.67), ('ACAGGUGAGUAA', 41.67), ('ACCGGAGAAUAA', 41.67), ('ACCGGUGAAUAA', 41.67), ('ACGGGAGAAUAA', 41.67), ('ACGGGUGAAUAA', 41.67), ('ACUGGAGAAUAG', 41.67), ('ACUGGAGAAUGA', 41.67), ('ACUGGAGAGUAA', 41.67), ('ACUGGCGAAUAA', 41.67), ('ACUGGGGAAUAA', 41.67), ('ACUGGUGAAUAG', 41.67), ('ACUGGUGAAUGA', 41.67), ('ACUGGUGAGUAA', 41.67), ('ACAGGAGAGUAG', 50.0), ('ACAGGAGAGUGA', 50.0), ('ACAGGCGAAUAG', 50.0), ('ACAGGCGAAUGA', 50.0), ('ACAGGCGAGUAA', 50.0), ('ACAGGGGAAUAG', 50.0), ('ACAGGGGAAUGA', 50.0), ('ACAGGGGAGUAA', 50.0), ('ACAGGUGAGUAG', 50.0), ('ACAGGUGAGUGA', 50.0), ('ACCGGAGAAUAG', 50.0), ('ACCGGAGAAUGA', 50.0), ('ACCGGAGAGUAA', 50.0), ('ACCGGCGAAUAA', 50.0), ('ACCGGGGAAUAA', 50.0), ('ACCGGUGAAUAG', 50.0), ('ACCGGUGAAUGA', 50.0), ('ACCGGUGAGUAA', 50.0), ('ACGGGAGAAUAG', 50.0), ('ACGGGAGAAUGA', 50.0), ('ACGGGAGAGUAA', 50.0), ('ACGGGCGAAUAA', 50.0), ('ACGGGGGAAUAA', 50.0), ('ACGGGUGAAUAG', 50.0), ('ACGGGUGAAUGA', 50.0), ('ACGGGUGAGUAA', 50.0), ('ACUGGAGAGUAG', 50.0), ('ACUGGAGAGUGA', 50.0), ('ACUGGCGAAUAG', 50.0), ('ACUGGCGAAUGA', 50.0), ('ACUGGCGAGUAA', 50.0), ('ACUGGGGAAUAG', 50.0), ('ACUGGGGAAUGA', 50.0), ('ACUGGGGAGUAA', 50.0), ('ACUGGUGAGUAG', 50.0), ('ACUGGUGAGUGA', 50.0), ('ACAGGCGAGUAG', 58.33), ('ACAGGCGAGUGA', 58.33), ('ACAGGGGAGUAG', 58.33), ('ACAGGGGAGUGA', 58.33), ('ACCGGAGAGUAG', 58.33), ('ACCGGAGAGUGA', 58.33), ('ACCGGCGAAUAG', 58.33), ('ACCGGCGAAUGA', 58.33), ('ACCGGCGAGUAA', 58.33), ('ACCGGGGAAUAG', 58.33), ('ACCGGGGAAUGA', 58.33), ('ACCGGGGAGUAA', 58.33), ('ACCGGUGAGUAG', 58.33), ('ACCGGUGAGUGA', 58.33), ('ACGGGAGAGUAG', 58.33), ('ACGGGAGAGUGA', 58.33), ('ACGGGCGAAUAG', 58.33), ('ACGGGCGAAUGA', 58.33), ('ACGGGCGAGUAA', 58.33), ('ACGGGGGAAUAG', 58.33), ('ACGGGGGAAUGA', 58.33), ('ACGGGGGAGUAA', 58.33), ('ACGGGUGAGUAG', 58.33), ('ACGGGUGAGUGA', 58.33), ('ACUGGCGAGUAG', 58.33), ('ACUGGCGAGUGA', 58.33), ('ACUGGGGAGUAG', 58.33), ('ACUGGGGAGUGA', 58.33), ('ACCGGCGAGUAG', 66.67), ('ACCGGCGAGUGA', 66.67), ('ACCGGGGAGUAG', 66.67), ('ACCGGGGAGUGA', 66.67), ('ACGGGCGAGUAG', 66.67), ('ACGGGCGAGUGA', 66.67), ('ACGGGGGAGUAG', 66.67), ('ACGGGGGAGUGA', 66.67)]\n",
      "Most probable mRNA sequence is : ACUGGUGAGUGA with %GC = 50.0\n"
     ]
    }
   ],
   "source": [
    "def reverse_transcription(protein):\n",
    "        mRNA = {}\n",
    "    \n",
    "        mRNA[\"UAA\"] = 0\n",
    "        mRNA[\"UGA\"] = 1/3\n",
    "        mRNA[\"UAG\"] = 1/3\n",
    "\n",
    "      \n",
    "        for i in range(len(protein)-5, -1, -1):\n",
    "                temp = []\n",
    "                \n",
    "                for j in maap.keys():\n",
    "                        if protein[i] == maap[j]:\n",
    "                                for k in mRNA.keys():\n",
    "                                        s = k\n",
    "                                        s = j + s\n",
    "                                        temp.append(s)\n",
    "                mRNA.clear()\n",
    "                for k in temp:\n",
    "                    mRNA[k] = 0\n",
    "        for i in mRNA.keys():\n",
    "                count = 0\n",
    "                total = 0\n",
    "                for j in i:\n",
    "                        total += 1\n",
    "                        if j == 'G' or j == 'C':\n",
    "                                count += 1\n",
    "                mRNA[i] = round(count / total * 100, 2)\n",
    "\n",
    "        return mRNA\n",
    "    \n",
    "maap = {\"UUU\":\"F\", \"UUC\":\"F\", \"UUA\":\"L\", \"UUG\":\"L\", \n",
    "        \"UCU\":\"S\", \"UCC\":\"S\", \"UCA\":\"S\", \"UCG\":\"S\", \n",
    "        \"UAU\":\"Y\", \"UAC\":\"Y\", \"UAA\":\"STOP\", \"UAG\":\"STOP\", \n",
    "        \"UGU\":\"C\", \"UGC\":\"C\", \"UGA\":\"STOP\", \"UGG\":\"W\", \n",
    "        \"CUU\":\"L\", \"CUC\":\"L\", \"CUA\":\"L\", \"CUG\":\"L\", \n",
    "        \"CCU\":\"P\", \"CCC\":\"P\", \"CCA\":\"P\", \"CCG\":\"P\", \n",
    "        \"CAU\":\"H\", \"CAC\":\"H\", \"CAA\":\"Q\", \"CAG\":\"Q\", \n",
    "        \"CGU\":\"R\", \"CGC\":\"R\", \"CGA\":\"R\", \"CGG\":\"R\", \n",
    "        \"AUU\":\"I\", \"AUC\":\"I\", \"AUA\":\"I\", \"AUG\":\"M\", \n",
    "        \"ACU\":\"T\", \"ACC\":\"T\", \"ACA\":\"T\", \"ACG\":\"T\", \n",
    "        \"AAU\":\"N\", \"AAC\":\"N\", \"AAA\":\"K\", \"AAG\":\"K\", \n",
    "        \"AGU\":\"S\", \"AGC\":\"S\", \"AGA\":\"R\", \"AGG\":\"R\", \n",
    "        \"GUU\":\"V\", \"GUC\":\"V\", \"GUA\":\"V\", \"GUG\":\"V\", \n",
    "        \"GCU\":\"A\", \"GCC\":\"A\", \"GCA\":\"A\", \"GCG\":\"A\", \n",
    "        \"GAU\":\"D\", \"GAC\":\"D\", \"GAA\":\"E\", \"GAG\":\"E\", \n",
    "        \"GGU\":\"G\", \"GGC\":\"G\", \"GGA\":\"G\", \"GGG\":\"G\"}\n",
    "\n",
    "print (\"this is the map to help you enter the sequence\")\n",
    "\n",
    "print(maap)\n",
    "val = input(\"Enter your protein: \")\n",
    "mRNA = reverse_transcription(val)\n",
    "print(sorted(mRNA.items(), key = lambda kv:(kv[1], kv[0])))\n",
    "diff = 100\n",
    "val = \"\"\n",
    "for i in mRNA.keys():\n",
    "        if abs(mRNA[i] - 50) < diff:\n",
    "                diff = abs(mRNA[i] - 50)\n",
    "                val = i\n",
    "\n",
    "print(\"Most probable mRNA sequence is :\", val, \"with %GC =\", mRNA[val])\n",
    "\n"
   ]
  },
  {
   "cell_type": "code",
   "execution_count": null,
   "metadata": {},
   "outputs": [],
   "source": []
  },
  {
   "cell_type": "code",
   "execution_count": null,
   "metadata": {},
   "outputs": [],
   "source": []
  },
  {
   "cell_type": "code",
   "execution_count": null,
   "metadata": {},
   "outputs": [],
   "source": []
  },
  {
   "cell_type": "code",
   "execution_count": null,
   "metadata": {},
   "outputs": [],
   "source": []
  },
  {
   "cell_type": "code",
   "execution_count": null,
   "metadata": {},
   "outputs": [],
   "source": []
  }
 ],
 "metadata": {
  "kernelspec": {
   "display_name": "Python 3",
   "language": "python",
   "name": "python3"
  },
  "language_info": {
   "codemirror_mode": {
    "name": "ipython",
    "version": 3
   },
   "file_extension": ".py",
   "mimetype": "text/x-python",
   "name": "python",
   "nbconvert_exporter": "python",
   "pygments_lexer": "ipython3",
   "version": "3.8.5"
  }
 },
 "nbformat": 4,
 "nbformat_minor": 4
}
